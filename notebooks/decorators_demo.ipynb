{
 "metadata": {
  "name": "",
  "signature": "sha256:1fe354aa059f72e0bf7c629bb2ed173e46ef0d3ab89c622409334f52526e7bb1"
 },
 "nbformat": 3,
 "nbformat_minor": 0,
 "worksheets": [
  {
   "cells": [
    {
     "cell_type": "code",
     "collapsed": false,
     "input": [
      "from __future__ import print_function\n",
      "\n",
      "import functools\n",
      "import datetime\n",
      "import time\n",
      "\n",
      "def print_time(message=''):\n",
      "    print(message, datetime.datetime.now().strftime('%H:%M:%S.%f'))\n",
      "          \n",
      "print_time('what time is it?')"
     ],
     "language": "python",
     "metadata": {},
     "outputs": [
      {
       "output_type": "stream",
       "stream": "stdout",
       "text": [
        "what time is it? 12:46:45.435531\n"
       ]
      }
     ],
     "prompt_number": 4
    },
    {
     "cell_type": "code",
     "collapsed": false,
     "input": [
      "def wrap_time_prints(func):\n",
      "    \n",
      "    def wrapped_func(*args, **kwargs):\n",
      "        start = time.time()\n",
      "        ret = func(*args, **kwargs)\n",
      "        end = time.time()\n",
      "        print((end - start) * 1000)\n",
      "        return ret\n",
      "    \n",
      "    return wrapped_func\n",
      "    \n",
      "wrapped_print_time = wrap_time_prints(print_time)"
     ],
     "language": "python",
     "metadata": {},
     "outputs": [],
     "prompt_number": 10
    },
    {
     "cell_type": "code",
     "collapsed": false,
     "input": [
      "wrapped_print_time('The inner print_time:')"
     ],
     "language": "python",
     "metadata": {},
     "outputs": [
      {
       "output_type": "stream",
       "stream": "stdout",
       "text": [
        "The inner print_time: 12:51:10.313374\n",
        "0.0820159912109\n"
       ]
      }
     ],
     "prompt_number": 12
    },
    {
     "cell_type": "markdown",
     "metadata": {},
     "source": [
      "# More info\n",
      "\n",
      "* Basic intro: https://www.youtube.com/watch?v=9oyr0mocZTg\n",
      "* Advanced tutorial: https://www.youtube.com/watch?v=7jGtDGxgwEY\n",
      "* Extended written introduction: http://simeonfranklin.com/blog/2012/jul/1/python-decorators-in-12-steps/"
     ]
    }
   ],
   "metadata": {}
  }
 ]
}