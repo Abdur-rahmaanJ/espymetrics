{
 "metadata": {
  "name": "",
  "signature": "sha256:a8d90da15dd9bd2ae9e9d39d8323e0cf94ab83e09965fb1d7021494f84c6a321"
 },
 "nbformat": 3,
 "nbformat_minor": 0,
 "worksheets": [
  {
   "cells": [
    {
     "cell_type": "code",
     "collapsed": false,
     "input": [
      "import json\n",
      "import urllib2\n",
      "\n",
      "from IPython.display import Image"
     ],
     "language": "python",
     "metadata": {},
     "outputs": [],
     "prompt_number": 5
    },
    {
     "cell_type": "code",
     "collapsed": false,
     "input": [
      "class TopicSummarizer(object):\n",
      "    \"\"\"\n",
      "    Our stepwise processor that uses Wikipedia to summarize topics.\n",
      "    \n",
      "    Just instantiate with the topic name, call .process(), and then .get_results()\n",
      "    \"\"\"\n",
      "    \n",
      "    def __init__(self, topic):\n",
      "        self.topic = unicode(topic)\n",
      "        \n",
      "    def process(self):\n",
      "        self._fetch_text()\n",
      "        self._fetch_thumbnail()\n",
      "        return self\n",
      "    \n",
      "    def get_results(self, as_text=False):\n",
      "        if as_text:\n",
      "            return self.topic + ' summary: ' + self._text\n",
      "        return TopicSummary(self.topic, self._thumb_url, self._text)\n",
      "    \n",
      "    def _fetch_text(self):\n",
      "        self._text_api_url = TEXT_URL_TMPL.format(title=self.topic)\n",
      "        self._text_resp = self._get_url_json(self._text_api_url)\n",
      "        self._text = self._text_resp['query']['pages'].values()[0]['extract']\n",
      "        \n",
      "    def _fetch_thumbnail(self):\n",
      "        self._thumb_api_url = THUMB_URL_TMPL.format(title=self.topic)\n",
      "        self._thumb_resp = self._get_url_json(self._thumb_api_url)\n",
      "        self._thumb_url = self._thumb_resp['query']['pages'].values()[0]['thumbnail']['source']\n",
      "        \n",
      "    def _get_url_json(self, url):\n",
      "        resp = urllib2.urlopen(url)\n",
      "        resp_body = resp.read()\n",
      "        return json.loads(resp_body)\n",
      "    \n",
      "    \n",
      "class TopicSummary(object):\n",
      "    def __init__(self, topic, thumb_url, text):\n",
      "        self.topic = topic\n",
      "        self.thumb_url = thumb_url\n",
      "        self.text = text\n",
      "        \n",
      "    def __repr__(self):\n",
      "        cn = self.__class__.__name__\n",
      "        return '%s(%r, %r, %r)' % (cn, self.topic, self.thumb_url, self.text)\n",
      "    \n",
      "\n",
      "TEXT_URL_TMPL = 'https://en.wikipedia.org/w/api.php?action=query&prop=extracts&exsentences=2&titles={title}&explaintext=1&exintro=1&format=json'\n",
      "THUMB_URL_TMPL = 'https://en.wikipedia.org/w/api.php?action=query&prop=pageimages&titles={title}&format=json'"
     ],
     "language": "python",
     "metadata": {},
     "outputs": [],
     "prompt_number": 6
    },
    {
     "cell_type": "code",
     "collapsed": false,
     "input": [
      "summarizer = TopicSummarizer('Coffee')\n",
      "summarizer.process()"
     ],
     "language": "python",
     "metadata": {},
     "outputs": [
      {
       "metadata": {},
       "output_type": "pyout",
       "prompt_number": 7,
       "text": [
        "<__main__.TopicSummarizer at 0x7fd8d01fa1d0>"
       ]
      }
     ],
     "prompt_number": 7
    },
    {
     "cell_type": "code",
     "collapsed": false,
     "input": [
      "coffee_summary = summarizer.get_results()"
     ],
     "language": "python",
     "metadata": {},
     "outputs": [],
     "prompt_number": 8
    },
    {
     "cell_type": "code",
     "collapsed": false,
     "input": [
      "print(coffee_summary.text)\n",
      "Image(url=coffee_summary.thumb_url)"
     ],
     "language": "python",
     "metadata": {},
     "outputs": [
      {
       "output_type": "stream",
       "stream": "stdout",
       "text": [
        "Coffee is a brewed drink prepared from roasted coffee beans, which are the seeds of berries from the Coffea plant. The plant is native to subtropical Africa and some islands in southern Asia.\n"
       ]
      },
      {
       "html": [
        "<img src=\"https://upload.wikimedia.org/wikipedia/commons/thumb/4/45/A_small_cup_of_coffee.JPG/50px-A_small_cup_of_coffee.JPG\"/>"
       ],
       "metadata": {},
       "output_type": "pyout",
       "prompt_number": 9,
       "text": [
        "<IPython.core.display.Image at 0x7fd8d01fa850>"
       ]
      }
     ],
     "prompt_number": 9
    },
    {
     "cell_type": "markdown",
     "metadata": {},
     "source": [
      "# TODO\n",
      "\n",
      "* Better URL composition\n",
      "* `__repr__` for the TopicSummarizer"
     ]
    }
   ],
   "metadata": {}
  }
 ]
}